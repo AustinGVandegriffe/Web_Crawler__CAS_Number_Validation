{
 "cells": [
  {
   "cell_type": "code",
   "execution_count": null,
   "metadata": {},
   "outputs": [],
   "source": [
    "'''\n",
    "/// @file CAS_Validation_Notebook.pynb\n",
    "/// @author Austin Vandegriffe\n",
    "/// @date 2020-04-20\n",
    "/// @brief Search CAS number and return name and standardized number\n",
    "/// @pre A CSV with CAS numbers and ingredient names is required\n",
    "/// @style K&R, and \"one true brace style\" (OTBS), and '_' variable naming\n",
    "/////////////////////////////////////////////////////////////////////\n",
    "/// @references\n",
    "/// ## N/A\n",
    "/////////////////////////////////////////////////////////////////////\n",
    "/// @notes\n",
    "/// ## 1. This may have to run overnight with large datasets to prevent\n",
    "/// ####  the CAS querier from being detected by anti-crawler defenses.\n",
    "'''"
   ]
  },
  {
   "cell_type": "code",
   "execution_count": null,
   "metadata": {},
   "outputs": [],
   "source": [
    "import pandas as pd\n",
    "import numpy as np\n",
    "\n",
    "# For sleeping\n",
    "import time\n",
    "\n",
    "# Progressbar\n",
    "from tqdm import tqdm\n",
    "\n",
    "# Web crawler\n",
    "import cas_query\n",
    "querier = cas_query.CAS_Querier()"
   ]
  },
  {
   "cell_type": "code",
   "execution_count": null,
   "metadata": {},
   "outputs": [],
   "source": [
    "# Dataframe for VALid CAS numbers\n",
    "df_val = pd.read_csv(\"mock_cas_dataset.csv\")\n",
    "\n",
    "# Dataframe for invalid CAS numbers, i.e. DROPped from df_val\n",
    "df_drop = pd.DataFrame(columns=df_val.columns)"
   ]
  },
  {
   "cell_type": "code",
   "execution_count": null,
   "metadata": {},
   "outputs": [],
   "source": []
  },
  {
   "cell_type": "code",
   "execution_count": null,
   "metadata": {},
   "outputs": [],
   "source": [
    "# Validate all UNIQUE CAS numbers\n",
    "## I added a cool progressbar with tqdm\n",
    "unique_cas_numbers = df_val[\"CASNumber\"].unique()\n",
    "for cas in tqdm( unique_cas_numbers ):\n",
    "    if len(cas) == 0:\n",
    "        # No CAS number, drop from valid dataframe\n",
    "        df_drop = df_drop.append(df_val.loc[df_val[\"CASNumber\"] == cas])\n",
    "        df_val = df_val.loc[~(df_val[\"CASNumber\"] == cas)]\n",
    "        continue\n",
    "    try:\n",
    "        # Search databases for the CAS number\n",
    "        tmp = querier.search(cas)\n",
    "    except (cas_query.InvalidCASError, IndexError):\n",
    "        # CAS number is invalid, drop from valid dataframe\n",
    "        df_drop = df_drop.append(df_val.loc[df_val[\"CASNumber\"] == cas])\n",
    "        df_val = df_val.loc[~(df_val[\"CASNumber\"] == cas)]\n",
    "        continue\n",
    "    # If it makes it here, the CAS number is valid\n",
    "    ## make ingredient name and number format uniform.\n",
    "    df_val.loc[df_val[\"CASNumber\"] == cas, \"IngredientName\"] = tmp[0]\n",
    "    df_val.loc[df_val[\"CASNumber\"] == cas, \"CASNumber\"] = tmp[1]\n",
    "    \n",
    "    # Mimic real user, add a random delay.\n",
    "    ## don't bombard the websites too quickly\n",
    "    ## they will catch you...\n",
    "    time.sleep(np.random.randint(10,30))"
   ]
  },
  {
   "cell_type": "code",
   "execution_count": null,
   "metadata": {},
   "outputs": [],
   "source": []
  }
 ],
 "metadata": {
  "kernelspec": {
   "display_name": "Python 3",
   "language": "python",
   "name": "python3"
  },
  "language_info": {
   "codemirror_mode": {
    "name": "ipython",
    "version": 3
   },
   "file_extension": ".py",
   "mimetype": "text/x-python",
   "name": "python",
   "nbconvert_exporter": "python",
   "pygments_lexer": "ipython3",
   "version": "3.7.4"
  }
 },
 "nbformat": 4,
 "nbformat_minor": 2
}
