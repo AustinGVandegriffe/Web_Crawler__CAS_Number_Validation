{
 "cells": [
  {
   "cell_type": "code",
   "execution_count": null,
   "metadata": {},
   "outputs": [],
   "source": [
    "'''\n",
    "/// @file CAS_Validation_Notebook.ipynb\n",
    "/// @author Austin Vandegriffe\n",
    "/// @date 2020-04-20\n",
    "/// @brief Search CAS number and return name and standardized number\n",
    "/// @pre A CSV with CAS numbers and ingredient names is required\n",
    "/// @style K&R, \"one true brace style\" (OTBS), and '_' variable naming\n",
    "/////////////////////////////////////////////////////////////////////\n",
    "/// @references\n",
    "/// ## N/A\n",
    "/////////////////////////////////////////////////////////////////////\n",
    "/// @notes\n",
    "/// ## 1. This may have to run overnight with large datasets to prevent\n",
    "/// ####  the CAS querier from being detected by anti-crawler defenses.\n",
    "'''"
   ]
  },
  {
   "cell_type": "code",
   "execution_count": 1,
   "metadata": {},
   "outputs": [],
   "source": [
    "import pandas as pd\n",
    "import numpy as np\n",
    "\n",
    "# For sleeping\n",
    "import time\n",
    "\n",
    "# Progressbar\n",
    "from tqdm.notebook import tqdm\n",
    "\n",
    "# Web crawler\n",
    "import cas_query\n",
    "querier = cas_query.CAS_Querier()"
   ]
  },
  {
   "cell_type": "code",
   "execution_count": null,
   "metadata": {},
   "outputs": [],
   "source": []
  },
  {
   "cell_type": "code",
   "execution_count": 2,
   "metadata": {},
   "outputs": [],
   "source": [
    "# Dataframe for VALid CAS numbers\n",
    "df_val = pd.read_csv(\"mock_cas_dataset.csv\")\n",
    "\n",
    "# Dataframe for invalid CAS numbers, i.e. DROPped from df_val\n",
    "df_drop = pd.DataFrame(columns=df_val.columns)"
   ]
  },
  {
   "cell_type": "code",
   "execution_count": 3,
   "metadata": {},
   "outputs": [
    {
     "data": {
      "text/html": [
       "<div>\n",
       "<style scoped>\n",
       "    .dataframe tbody tr th:only-of-type {\n",
       "        vertical-align: middle;\n",
       "    }\n",
       "\n",
       "    .dataframe tbody tr th {\n",
       "        vertical-align: top;\n",
       "    }\n",
       "\n",
       "    .dataframe thead th {\n",
       "        text-align: right;\n",
       "    }\n",
       "</style>\n",
       "<table border=\"1\" class=\"dataframe\">\n",
       "  <thead>\n",
       "    <tr style=\"text-align: right;\">\n",
       "      <th></th>\n",
       "      <th>IngredientName</th>\n",
       "      <th>CASNumber</th>\n",
       "    </tr>\n",
       "  </thead>\n",
       "  <tbody>\n",
       "    <tr>\n",
       "      <th>0</th>\n",
       "      <td>Distillates, petroleum, hydrotreated light</td>\n",
       "      <td>64742-47-8</td>\n",
       "    </tr>\n",
       "    <tr>\n",
       "      <th>1</th>\n",
       "      <td>Potassium hydroxide</td>\n",
       "      <td>1310-58-3</td>\n",
       "    </tr>\n",
       "    <tr>\n",
       "      <th>2</th>\n",
       "      <td>Aluminum Oxide</td>\n",
       "      <td>1344-28-1</td>\n",
       "    </tr>\n",
       "    <tr>\n",
       "      <th>3</th>\n",
       "      <td>Listed Below</td>\n",
       "      <td>Listed Below</td>\n",
       "    </tr>\n",
       "    <tr>\n",
       "      <th>4</th>\n",
       "      <td>1-(Benzyl)quinolinium chloride</td>\n",
       "      <td>15619-48-4</td>\n",
       "    </tr>\n",
       "  </tbody>\n",
       "</table>\n",
       "</div>"
      ],
      "text/plain": [
       "                               IngredientName     CASNumber\n",
       "0  Distillates, petroleum, hydrotreated light    64742-47-8\n",
       "1                         Potassium hydroxide     1310-58-3\n",
       "2                              Aluminum Oxide     1344-28-1\n",
       "3                                Listed Below  Listed Below\n",
       "4              1-(Benzyl)quinolinium chloride    15619-48-4"
      ]
     },
     "execution_count": 3,
     "metadata": {},
     "output_type": "execute_result"
    }
   ],
   "source": [
    "df_val.head(5)"
   ]
  },
  {
   "cell_type": "code",
   "execution_count": null,
   "metadata": {},
   "outputs": [],
   "source": []
  },
  {
   "cell_type": "code",
   "execution_count": 4,
   "metadata": {},
   "outputs": [
    {
     "data": {
      "application/vnd.jupyter.widget-view+json": {
       "model_id": "3ebd72c7cc784f69b2c9b0a74715211c",
       "version_major": 2,
       "version_minor": 0
      },
      "text/plain": [
       "HBox(children=(FloatProgress(value=0.0, max=5.0), HTML(value='')))"
      ]
     },
     "metadata": {},
     "output_type": "display_data"
    },
    {
     "name": "stdout",
     "output_type": "stream",
     "text": [
      "\n"
     ]
    }
   ],
   "source": [
    "# Validate all UNIQUE CAS numbers\n",
    "## I added a cool progressbar with tqdm\n",
    "unique_cas_numbers = df_val[\"CASNumber\"].unique()\n",
    "for cas in tqdm( unique_cas_numbers ):\n",
    "    if len(cas) == 0:\n",
    "        # No CAS number, drop from valid dataframe\n",
    "        df_drop = df_drop.append(df_val.loc[df_val[\"CASNumber\"] == cas])\n",
    "        df_val = df_val.loc[~(df_val[\"CASNumber\"] == cas)]\n",
    "        continue\n",
    "    try:\n",
    "        # Search databases for the CAS number\n",
    "        tmp = querier.search(cas)\n",
    "    except (cas_query.InvalidCASError, IndexError):\n",
    "        # CAS number is invalid, drop from valid dataframe\n",
    "        df_drop = df_drop.append(df_val.loc[df_val[\"CASNumber\"] == cas])\n",
    "        df_val = df_val.loc[~(df_val[\"CASNumber\"] == cas)]\n",
    "        continue\n",
    "    # If it makes it here, the CAS number is valid\n",
    "    ## make ingredient name and number format uniform.\n",
    "    df_val.loc[df_val[\"CASNumber\"] == cas, \"IngredientName\"] = tmp[0]\n",
    "    df_val.loc[df_val[\"CASNumber\"] == cas, \"CASNumber\"] = tmp[1]\n",
    "    \n",
    "    # Mimic real user, add a random delay.\n",
    "    ## don't bombard the websites too quickly\n",
    "    ## they will catch you...\n",
    "    time.sleep(np.random.randint(10,30))"
   ]
  },
  {
   "cell_type": "code",
   "execution_count": null,
   "metadata": {},
   "outputs": [],
   "source": []
  },
  {
   "cell_type": "code",
   "execution_count": 5,
   "metadata": {},
   "outputs": [
    {
     "data": {
      "text/html": [
       "<div>\n",
       "<style scoped>\n",
       "    .dataframe tbody tr th:only-of-type {\n",
       "        vertical-align: middle;\n",
       "    }\n",
       "\n",
       "    .dataframe tbody tr th {\n",
       "        vertical-align: top;\n",
       "    }\n",
       "\n",
       "    .dataframe thead th {\n",
       "        text-align: right;\n",
       "    }\n",
       "</style>\n",
       "<table border=\"1\" class=\"dataframe\">\n",
       "  <thead>\n",
       "    <tr style=\"text-align: right;\">\n",
       "      <th></th>\n",
       "      <th>IngredientName</th>\n",
       "      <th>CASNumber</th>\n",
       "    </tr>\n",
       "  </thead>\n",
       "  <tbody>\n",
       "    <tr>\n",
       "      <th>0</th>\n",
       "      <td>C13-14 isoparaffin</td>\n",
       "      <td>0064742-47-8</td>\n",
       "    </tr>\n",
       "    <tr>\n",
       "      <th>1</th>\n",
       "      <td>Potassium hydroxide</td>\n",
       "      <td>0001310-58-3</td>\n",
       "    </tr>\n",
       "    <tr>\n",
       "      <th>2</th>\n",
       "      <td>aluminium oxide</td>\n",
       "      <td>0001344-28-1</td>\n",
       "    </tr>\n",
       "    <tr>\n",
       "      <th>4</th>\n",
       "      <td>Quinolinium, 1-(phenylmethyl)-, chloride (1:1)</td>\n",
       "      <td>0015619-48-4</td>\n",
       "    </tr>\n",
       "    <tr>\n",
       "      <th>5</th>\n",
       "      <td>Water</td>\n",
       "      <td>7732-18-5</td>\n",
       "    </tr>\n",
       "  </tbody>\n",
       "</table>\n",
       "</div>"
      ],
      "text/plain": [
       "                                   IngredientName     CASNumber\n",
       "0                              C13-14 isoparaffin  0064742-47-8\n",
       "1                             Potassium hydroxide  0001310-58-3\n",
       "2                                 aluminium oxide  0001344-28-1\n",
       "4  Quinolinium, 1-(phenylmethyl)-, chloride (1:1)  0015619-48-4\n",
       "5                                           Water     7732-18-5"
      ]
     },
     "execution_count": 5,
     "metadata": {},
     "output_type": "execute_result"
    }
   ],
   "source": [
    "df_val.head(5)"
   ]
  },
  {
   "cell_type": "code",
   "execution_count": 6,
   "metadata": {},
   "outputs": [
    {
     "data": {
      "text/html": [
       "<div>\n",
       "<style scoped>\n",
       "    .dataframe tbody tr th:only-of-type {\n",
       "        vertical-align: middle;\n",
       "    }\n",
       "\n",
       "    .dataframe tbody tr th {\n",
       "        vertical-align: top;\n",
       "    }\n",
       "\n",
       "    .dataframe thead th {\n",
       "        text-align: right;\n",
       "    }\n",
       "</style>\n",
       "<table border=\"1\" class=\"dataframe\">\n",
       "  <thead>\n",
       "    <tr style=\"text-align: right;\">\n",
       "      <th></th>\n",
       "      <th>IngredientName</th>\n",
       "      <th>CASNumber</th>\n",
       "    </tr>\n",
       "  </thead>\n",
       "  <tbody>\n",
       "    <tr>\n",
       "      <th>3</th>\n",
       "      <td>Listed Below</td>\n",
       "      <td>Listed Below</td>\n",
       "    </tr>\n",
       "    <tr>\n",
       "      <th>7</th>\n",
       "      <td>Listed Below</td>\n",
       "      <td>Listed Below</td>\n",
       "    </tr>\n",
       "    <tr>\n",
       "      <th>25</th>\n",
       "      <td>Listed Below</td>\n",
       "      <td>Listed Below</td>\n",
       "    </tr>\n",
       "    <tr>\n",
       "      <th>26</th>\n",
       "      <td>Listed Below</td>\n",
       "      <td>Listed Below</td>\n",
       "    </tr>\n",
       "    <tr>\n",
       "      <th>29</th>\n",
       "      <td>Listed Below</td>\n",
       "      <td>Listed Below</td>\n",
       "    </tr>\n",
       "  </tbody>\n",
       "</table>\n",
       "</div>"
      ],
      "text/plain": [
       "   IngredientName     CASNumber\n",
       "3    Listed Below  Listed Below\n",
       "7    Listed Below  Listed Below\n",
       "25   Listed Below  Listed Below\n",
       "26   Listed Below  Listed Below\n",
       "29   Listed Below  Listed Below"
      ]
     },
     "execution_count": 6,
     "metadata": {},
     "output_type": "execute_result"
    }
   ],
   "source": [
    "df_drop.head(5)"
   ]
  },
  {
   "cell_type": "code",
   "execution_count": null,
   "metadata": {},
   "outputs": [],
   "source": []
  }
 ],
 "metadata": {
  "kernelspec": {
   "display_name": "Python 3",
   "language": "python",
   "name": "python3"
  },
  "language_info": {
   "codemirror_mode": {
    "name": "ipython",
    "version": 3
   },
   "file_extension": ".py",
   "mimetype": "text/x-python",
   "name": "python",
   "nbconvert_exporter": "python",
   "pygments_lexer": "ipython3",
   "version": "3.7.5"
  },
  "latex_envs": {
   "LaTeX_envs_menu_present": true,
   "autoclose": false,
   "autocomplete": true,
   "bibliofile": "biblio.bib",
   "cite_by": "apalike",
   "current_citInitial": 1,
   "eqLabelWithNumbers": true,
   "eqNumInitial": 1,
   "hotkeys": {
    "equation": "Ctrl-E",
    "itemize": "Ctrl-I"
   },
   "labels_anchors": false,
   "latex_user_defs": false,
   "report_style_numbering": false,
   "user_envs_cfg": false
  },
  "varInspector": {
   "cols": {
    "lenName": 16,
    "lenType": 16,
    "lenVar": 40
   },
   "kernels_config": {
    "python": {
     "delete_cmd_postfix": "",
     "delete_cmd_prefix": "del ",
     "library": "var_list.py",
     "varRefreshCmd": "print(var_dic_list())"
    },
    "r": {
     "delete_cmd_postfix": ") ",
     "delete_cmd_prefix": "rm(",
     "library": "var_list.r",
     "varRefreshCmd": "cat(var_dic_list()) "
    }
   },
   "types_to_exclude": [
    "module",
    "function",
    "builtin_function_or_method",
    "instance",
    "_Feature"
   ],
   "window_display": false
  }
 },
 "nbformat": 4,
 "nbformat_minor": 2
}
